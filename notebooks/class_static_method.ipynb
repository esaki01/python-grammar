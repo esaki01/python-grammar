{
 "cells": [
  {
   "cell_type": "markdown",
   "metadata": {},
   "source": [
    "# クラスメソッドとスタティックメソッドの違い"
   ]
  },
  {
   "cell_type": "code",
   "execution_count": 4,
   "metadata": {},
   "outputs": [
    {
     "name": "stdout",
     "output_type": "stream",
     "text": [
      "object: <class '__main__.Animal'>, variable: 動物\n",
      "object: <class '__main__.Animal'>, variable: 動物\n"
     ]
    }
   ],
   "source": [
    "class Animal(object):\n",
    "    \n",
    "    name = '動物'\n",
    "    \n",
    "    @classmethod\n",
    "    def class_method(cls):\n",
    "        # クラスメソッドは第1引数にclsを渡すことでクラス変数にアクセスできる\n",
    "        print('object: {}, variable: {}'.format(cls, cls.name))\n",
    "            \n",
    "    @staticmethod\n",
    "    def static_method():\n",
    "        # スタティックメソッドはクラスを宣言することでクラス変数にアクセスできる\n",
    "        print('object: {}, variable: {}'.format(Animal, Animal.name))\n",
    "        \n",
    "        \n",
    "Animal.class_method()\n",
    "Animal.static_method()"
   ]
  },
  {
   "cell_type": "code",
   "execution_count": 6,
   "metadata": {},
   "outputs": [
    {
     "name": "stdout",
     "output_type": "stream",
     "text": [
      "object: <class '__main__.Dog'>, variable: 犬\n",
      "object: <class '__main__.Animal'>, variable: 動物\n"
     ]
    }
   ],
   "source": [
    "class Dog(Animal):\n",
    "    name = '犬'\n",
    "    \n",
    "\n",
    "# Dogが渡されたclsでクラス変数にアクセスしている\n",
    "Dog.class_method()\n",
    "# Animalと宣言してクラス変数にアクセスしている\n",
    "Dog.static_method()"
   ]
  },
  {
   "cell_type": "markdown",
   "metadata": {},
   "source": [
    "[クラスメソッドとスタティックメソッドについて](https://qiita.com/1plus4/items/b37ec6ea90569ffdebfe)"
   ]
  }
 ],
 "metadata": {
  "kernelspec": {
   "display_name": "Python 3",
   "language": "python",
   "name": "python3"
  },
  "language_info": {
   "codemirror_mode": {
    "name": "ipython",
    "version": 3
   },
   "file_extension": ".py",
   "mimetype": "text/x-python",
   "name": "python",
   "nbconvert_exporter": "python",
   "pygments_lexer": "ipython3",
   "version": "3.6.4"
  }
 },
 "nbformat": 4,
 "nbformat_minor": 2
}
